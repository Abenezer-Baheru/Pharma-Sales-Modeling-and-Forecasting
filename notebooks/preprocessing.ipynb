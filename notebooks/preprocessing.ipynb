{
 "cells": [
  {
   "cell_type": "markdown",
   "metadata": {},
   "source": [
    "Step 1: Import Necessary Modules"
   ]
  },
  {
   "cell_type": "code",
   "execution_count": 1,
   "metadata": {},
   "outputs": [],
   "source": [
    "# Step 1: Import Necessary Modules\n",
    "import sys\n",
    "import warnings\n",
    "import pandas as pd\n",
    "import matplotlib.pyplot as plt\n",
    "import seaborn as sns\n",
    "from tabulate import tabulate  # Import tabulate\n",
    "import logging\n",
    "sys.path.append('../scripts')\n",
    "\n",
    "from preprocessing import DataProcessor\n",
    "\n",
    "# Suppress warnings\n",
    "warnings.filterwarnings(\"ignore\")\n",
    "\n",
    "# Configure logging to display messages in the notebook\n",
    "logging.basicConfig(level=logging.INFO, format='%(asctime)s - %(levelname)s - %(message)s')"
   ]
  },
  {
   "cell_type": "markdown",
   "metadata": {},
   "source": [
    "Step 2: Set Up File Paths"
   ]
  },
  {
   "cell_type": "code",
   "execution_count": 3,
   "metadata": {},
   "outputs": [],
   "source": [
    "train_path = '../src/Data/train.csv'\n",
    "test_path = '../src/Data/test.csv'\n",
    "store_path = '../src/Data/store.csv'\n",
    "train_output_path = '../src/Data/cleaned_train.csv'\n",
    "test_output_path = '../src/Data/cleaned_test.csv'"
   ]
  },
  {
   "cell_type": "markdown",
   "metadata": {},
   "source": [
    "Step 3: Initialize the DataProcessor"
   ]
  },
  {
   "cell_type": "code",
   "execution_count": 4,
   "metadata": {},
   "outputs": [],
   "source": [
    "processor = DataProcessor(train_path, test_path, store_path)"
   ]
  },
  {
   "cell_type": "markdown",
   "metadata": {},
   "source": [
    "Step 4: Load Data"
   ]
  },
  {
   "cell_type": "code",
   "execution_count": 5,
   "metadata": {},
   "outputs": [
    {
     "name": "stderr",
     "output_type": "stream",
     "text": [
      "2025-01-03 14:29:01,795 - INFO - Loading datasets...\n",
      "2025-01-03 14:29:03,243 - INFO - Displaying dataset information...\n",
      "2025-01-03 14:29:03,244 - INFO - Train dataset size: (1017209, 9)\n",
      "2025-01-03 14:29:03,245 - INFO - Test dataset size: (41088, 8)\n",
      "2025-01-03 14:29:03,247 - INFO - Store dataset size: (1115, 10)\n",
      "2025-01-03 14:29:03,291 - INFO - Train dataset head:\n",
      "   Store  DayOfWeek        Date  Sales  Customers  Open  Promo StateHoliday  \\\n",
      "0      1          5  2015-07-31   5263        555     1      1            0   \n",
      "1      2          5  2015-07-31   6064        625     1      1            0   \n",
      "2      3          5  2015-07-31   8314        821     1      1            0   \n",
      "3      4          5  2015-07-31  13995       1498     1      1            0   \n",
      "4      5          5  2015-07-31   4822        559     1      1            0   \n",
      "\n",
      "   SchoolHoliday  \n",
      "0              1  \n",
      "1              1  \n",
      "2              1  \n",
      "3              1  \n",
      "4              1  \n",
      "2025-01-03 14:29:03,299 - INFO - Test dataset head:\n",
      "   Id  Store  DayOfWeek        Date  Open  Promo StateHoliday  SchoolHoliday\n",
      "0   1      1          4  2015-09-17   1.0      1            0              0\n",
      "1   2      3          4  2015-09-17   1.0      1            0              0\n",
      "2   3      7          4  2015-09-17   1.0      1            0              0\n",
      "3   4      8          4  2015-09-17   1.0      1            0              0\n",
      "4   5      9          4  2015-09-17   1.0      1            0              0\n",
      "2025-01-03 14:29:03,305 - INFO - Store dataset head:\n",
      "   Store StoreType Assortment  CompetitionDistance  CompetitionOpenSinceMonth  \\\n",
      "0      1         c          a               1270.0                        9.0   \n",
      "1      2         a          a                570.0                       11.0   \n",
      "2      3         a          a              14130.0                       12.0   \n",
      "3      4         c          c                620.0                        9.0   \n",
      "4      5         a          a              29910.0                        4.0   \n",
      "\n",
      "   CompetitionOpenSinceYear  Promo2  Promo2SinceWeek  Promo2SinceYear  \\\n",
      "0                    2008.0       0              NaN              NaN   \n",
      "1                    2007.0       1             13.0           2010.0   \n",
      "2                    2006.0       1             14.0           2011.0   \n",
      "3                    2009.0       0              NaN              NaN   \n",
      "4                    2015.0       0              NaN              NaN   \n",
      "\n",
      "     PromoInterval  \n",
      "0              NaN  \n",
      "1  Jan,Apr,Jul,Oct  \n",
      "2  Jan,Apr,Jul,Oct  \n",
      "3              NaN  \n",
      "4              NaN  \n",
      "2025-01-03 14:29:03,698 - INFO - Train dataset description:\n",
      "              Store     DayOfWeek         Sales     Customers          Open  \\\n",
      "count  1.017209e+06  1.017209e+06  1.017209e+06  1.017209e+06  1.017209e+06   \n",
      "mean   5.584297e+02  3.998341e+00  5.773819e+03  6.331459e+02  8.301067e-01   \n",
      "std    3.219087e+02  1.997391e+00  3.849926e+03  4.644117e+02  3.755392e-01   \n",
      "min    1.000000e+00  1.000000e+00  0.000000e+00  0.000000e+00  0.000000e+00   \n",
      "25%    2.800000e+02  2.000000e+00  3.727000e+03  4.050000e+02  1.000000e+00   \n",
      "50%    5.580000e+02  4.000000e+00  5.744000e+03  6.090000e+02  1.000000e+00   \n",
      "75%    8.380000e+02  6.000000e+00  7.856000e+03  8.370000e+02  1.000000e+00   \n",
      "max    1.115000e+03  7.000000e+00  4.155100e+04  7.388000e+03  1.000000e+00   \n",
      "\n",
      "              Promo  SchoolHoliday  \n",
      "count  1.017209e+06   1.017209e+06  \n",
      "mean   3.815145e-01   1.786467e-01  \n",
      "std    4.857586e-01   3.830564e-01  \n",
      "min    0.000000e+00   0.000000e+00  \n",
      "25%    0.000000e+00   0.000000e+00  \n",
      "50%    0.000000e+00   0.000000e+00  \n",
      "75%    1.000000e+00   0.000000e+00  \n",
      "max    1.000000e+00   1.000000e+00  \n",
      "2025-01-03 14:29:03,726 - INFO - Test dataset description:\n",
      "                 Id         Store     DayOfWeek          Open         Promo  \\\n",
      "count  41088.000000  41088.000000  41088.000000  41077.000000  41088.000000   \n",
      "mean   20544.500000    555.899533      3.979167      0.854322      0.395833   \n",
      "std    11861.228267    320.274496      2.015481      0.352787      0.489035   \n",
      "min        1.000000      1.000000      1.000000      0.000000      0.000000   \n",
      "25%    10272.750000    279.750000      2.000000      1.000000      0.000000   \n",
      "50%    20544.500000    553.500000      4.000000      1.000000      0.000000   \n",
      "75%    30816.250000    832.250000      6.000000      1.000000      1.000000   \n",
      "max    41088.000000   1115.000000      7.000000      1.000000      1.000000   \n",
      "\n",
      "       SchoolHoliday  \n",
      "count   41088.000000  \n",
      "mean        0.443487  \n",
      "std         0.496802  \n",
      "min         0.000000  \n",
      "25%         0.000000  \n",
      "50%         0.000000  \n",
      "75%         1.000000  \n",
      "max         1.000000  \n",
      "2025-01-03 14:29:03,752 - INFO - Store dataset description:\n",
      "            Store  CompetitionDistance  CompetitionOpenSinceMonth  \\\n",
      "count  1115.00000          1112.000000                 761.000000   \n",
      "mean    558.00000          5404.901079                   7.224704   \n",
      "std     322.01708          7663.174720                   3.212348   \n",
      "min       1.00000            20.000000                   1.000000   \n",
      "25%     279.50000           717.500000                   4.000000   \n",
      "50%     558.00000          2325.000000                   8.000000   \n",
      "75%     836.50000          6882.500000                  10.000000   \n",
      "max    1115.00000         75860.000000                  12.000000   \n",
      "\n",
      "       CompetitionOpenSinceYear       Promo2  Promo2SinceWeek  Promo2SinceYear  \n",
      "count                761.000000  1115.000000       571.000000       571.000000  \n",
      "mean                2008.668857     0.512108        23.595447      2011.763573  \n",
      "std                    6.195983     0.500078        14.141984         1.674935  \n",
      "min                 1900.000000     0.000000         1.000000      2009.000000  \n",
      "25%                 2006.000000     0.000000        13.000000      2011.000000  \n",
      "50%                 2010.000000     1.000000        22.000000      2012.000000  \n",
      "75%                 2013.000000     1.000000        37.000000      2013.000000  \n",
      "max                 2015.000000     1.000000        50.000000      2015.000000  \n",
      "2025-01-03 14:29:03,926 - INFO - Train dataset info:\n",
      "None\n",
      "2025-01-03 14:29:03,939 - INFO - Test dataset info:\n",
      "None\n",
      "2025-01-03 14:29:03,950 - INFO - Store dataset info:\n",
      "None\n"
     ]
    },
    {
     "name": "stdout",
     "output_type": "stream",
     "text": [
      "<class 'pandas.core.frame.DataFrame'>\n",
      "RangeIndex: 1017209 entries, 0 to 1017208\n",
      "Data columns (total 9 columns):\n",
      " #   Column         Non-Null Count    Dtype \n",
      "---  ------         --------------    ----- \n",
      " 0   Store          1017209 non-null  int64 \n",
      " 1   DayOfWeek      1017209 non-null  int64 \n",
      " 2   Date           1017209 non-null  object\n",
      " 3   Sales          1017209 non-null  int64 \n",
      " 4   Customers      1017209 non-null  int64 \n",
      " 5   Open           1017209 non-null  int64 \n",
      " 6   Promo          1017209 non-null  int64 \n",
      " 7   StateHoliday   1017209 non-null  object\n",
      " 8   SchoolHoliday  1017209 non-null  int64 \n",
      "dtypes: int64(7), object(2)\n",
      "memory usage: 69.8+ MB\n",
      "<class 'pandas.core.frame.DataFrame'>\n",
      "RangeIndex: 41088 entries, 0 to 41087\n",
      "Data columns (total 8 columns):\n",
      " #   Column         Non-Null Count  Dtype  \n",
      "---  ------         --------------  -----  \n",
      " 0   Id             41088 non-null  int64  \n",
      " 1   Store          41088 non-null  int64  \n",
      " 2   DayOfWeek      41088 non-null  int64  \n",
      " 3   Date           41088 non-null  object \n",
      " 4   Open           41077 non-null  float64\n",
      " 5   Promo          41088 non-null  int64  \n",
      " 6   StateHoliday   41088 non-null  object \n",
      " 7   SchoolHoliday  41088 non-null  int64  \n",
      "dtypes: float64(1), int64(5), object(2)\n",
      "memory usage: 2.5+ MB\n",
      "<class 'pandas.core.frame.DataFrame'>\n",
      "RangeIndex: 1115 entries, 0 to 1114\n",
      "Data columns (total 10 columns):\n",
      " #   Column                     Non-Null Count  Dtype  \n",
      "---  ------                     --------------  -----  \n",
      " 0   Store                      1115 non-null   int64  \n",
      " 1   StoreType                  1115 non-null   object \n",
      " 2   Assortment                 1115 non-null   object \n",
      " 3   CompetitionDistance        1112 non-null   float64\n",
      " 4   CompetitionOpenSinceMonth  761 non-null    float64\n",
      " 5   CompetitionOpenSinceYear   761 non-null    float64\n",
      " 6   Promo2                     1115 non-null   int64  \n",
      " 7   Promo2SinceWeek            571 non-null    float64\n",
      " 8   Promo2SinceYear            571 non-null    float64\n",
      " 9   PromoInterval              571 non-null    object \n",
      "dtypes: float64(5), int64(2), object(3)\n",
      "memory usage: 87.2+ KB\n",
      "Train dataset head:\n",
      " +----+---------+-------------+------------+---------+-------------+--------+---------+----------------+-----------------+\n",
      "|    |   Store |   DayOfWeek | Date       |   Sales |   Customers |   Open |   Promo |   StateHoliday |   SchoolHoliday |\n",
      "|----+---------+-------------+------------+---------+-------------+--------+---------+----------------+-----------------|\n",
      "|  0 |       1 |           5 | 2015-07-31 |    5263 |         555 |      1 |       1 |              0 |               1 |\n",
      "|  1 |       2 |           5 | 2015-07-31 |    6064 |         625 |      1 |       1 |              0 |               1 |\n",
      "|  2 |       3 |           5 | 2015-07-31 |    8314 |         821 |      1 |       1 |              0 |               1 |\n",
      "|  3 |       4 |           5 | 2015-07-31 |   13995 |        1498 |      1 |       1 |              0 |               1 |\n",
      "|  4 |       5 |           5 | 2015-07-31 |    4822 |         559 |      1 |       1 |              0 |               1 |\n",
      "+----+---------+-------------+------------+---------+-------------+--------+---------+----------------+-----------------+\n",
      "Test dataset head:\n",
      " +----+------+---------+-------------+------------+--------+---------+----------------+-----------------+\n",
      "|    |   Id |   Store |   DayOfWeek | Date       |   Open |   Promo |   StateHoliday |   SchoolHoliday |\n",
      "|----+------+---------+-------------+------------+--------+---------+----------------+-----------------|\n",
      "|  0 |    1 |       1 |           4 | 2015-09-17 |      1 |       1 |              0 |               0 |\n",
      "|  1 |    2 |       3 |           4 | 2015-09-17 |      1 |       1 |              0 |               0 |\n",
      "|  2 |    3 |       7 |           4 | 2015-09-17 |      1 |       1 |              0 |               0 |\n",
      "|  3 |    4 |       8 |           4 | 2015-09-17 |      1 |       1 |              0 |               0 |\n",
      "|  4 |    5 |       9 |           4 | 2015-09-17 |      1 |       1 |              0 |               0 |\n",
      "+----+------+---------+-------------+------------+--------+---------+----------------+-----------------+\n",
      "Store dataset head:\n",
      " +----+---------+-------------+--------------+-----------------------+-----------------------------+----------------------------+----------+-------------------+-------------------+-----------------+\n",
      "|    |   Store | StoreType   | Assortment   |   CompetitionDistance |   CompetitionOpenSinceMonth |   CompetitionOpenSinceYear |   Promo2 |   Promo2SinceWeek |   Promo2SinceYear | PromoInterval   |\n",
      "|----+---------+-------------+--------------+-----------------------+-----------------------------+----------------------------+----------+-------------------+-------------------+-----------------|\n",
      "|  0 |       1 | c           | a            |                  1270 |                           9 |                       2008 |        0 |               nan |               nan | nan             |\n",
      "|  1 |       2 | a           | a            |                   570 |                          11 |                       2007 |        1 |                13 |              2010 | Jan,Apr,Jul,Oct |\n",
      "|  2 |       3 | a           | a            |                 14130 |                          12 |                       2006 |        1 |                14 |              2011 | Jan,Apr,Jul,Oct |\n",
      "|  3 |       4 | c           | c            |                   620 |                           9 |                       2009 |        0 |               nan |               nan | nan             |\n",
      "|  4 |       5 | a           | a            |                 29910 |                           4 |                       2015 |        0 |               nan |               nan | nan             |\n",
      "+----+---------+-------------+--------------+-----------------------+-----------------------------+----------------------------+----------+-------------------+-------------------+-----------------+\n"
     ]
    }
   ],
   "source": [
    "# Step 4: Load Data\n",
    "try:\n",
    "    processor.load_data()\n",
    "    print(\"Train dataset head:\\n\", tabulate(processor.train.head(), headers='keys', tablefmt='psql'))\n",
    "    print(\"Test dataset head:\\n\", tabulate(processor.test.head(), headers='keys', tablefmt='psql'))\n",
    "    print(\"Store dataset head:\\n\", tabulate(processor.store.head(), headers='keys', tablefmt='psql'))\n",
    "except Exception as e:\n",
    "    print(f\"Error loading data: {e}\")"
   ]
  },
  {
   "cell_type": "markdown",
   "metadata": {},
   "source": [
    "Step 5: Visualize Missing Values"
   ]
  },
  {
   "cell_type": "code",
   "execution_count": 7,
   "metadata": {},
   "outputs": [
    {
     "name": "stdout",
     "output_type": "stream",
     "text": [
      "Your selected dataframe has 9 columns.\n",
      "There are 0 columns that have missing values.\n",
      "Missing values in train dataset:\n",
      " Empty DataFrame\n",
      "Columns: [Missing Values, % of Total Values]\n",
      "Index: []\n",
      "Your selected dataframe has 8 columns.\n",
      "There are 1 columns that have missing values.\n",
      "Missing values in test dataset:\n",
      "       Missing Values  % of Total Values\n",
      "Open              11                0.0\n",
      "Your selected dataframe has 10 columns.\n",
      "There are 6 columns that have missing values.\n",
      "Missing values in store dataset:\n",
      "                            Missing Values  % of Total Values\n",
      "Promo2SinceYear                       544               48.8\n",
      "Promo2SinceWeek                       544               48.8\n",
      "PromoInterval                         544               48.8\n",
      "CompetitionOpenSinceMonth             354               31.7\n",
      "CompetitionOpenSinceYear              354               31.7\n",
      "CompetitionDistance                     3                0.3\n"
     ]
    }
   ],
   "source": [
    "# Step 5: Visualize Missing Values\n",
    "def missing_values_table(df):\n",
    "    # Total missing values\n",
    "    mis_val = df.isnull().sum()\n",
    "    \n",
    "    # Percentage of missing values\n",
    "    mis_val_percent = 100 * mis_val / len(df)\n",
    "    \n",
    "    # Make a table with the results\n",
    "    mis_val_table = pd.concat([mis_val, mis_val_percent], axis=1)\n",
    "    \n",
    "    # Rename the columns\n",
    "    mis_val_table_ren_columns = mis_val_table.rename(\n",
    "    columns = {0 : 'Missing Values', 1 : '% of Total Values'})\n",
    "    \n",
    "    # Sort the table by percentage of missing descending\n",
    "    mis_val_table_ren_columns = mis_val_table_ren_columns[\n",
    "        mis_val_table_ren_columns.iloc[:,1] != 0].sort_values(\n",
    "    '% of Total Values', ascending=False).round(1)\n",
    "    \n",
    "    # Print some summary information\n",
    "    print (\"Your selected dataframe has \" + str(df.shape[1]) + \" columns.\\n\"      \n",
    "        \"There are \" + str(mis_val_table_ren_columns.shape[0]) +\n",
    "          \" columns that have missing values.\")\n",
    "    \n",
    "    # Return the dataframe with missing information\n",
    "    return mis_val_table_ren_columns\n",
    "\n",
    "# Display missing values for train, test, and store datasets\n",
    "print(\"Missing values in train dataset:\\n\", missing_values_table(processor.train))\n",
    "print(\"Missing values in test dataset:\\n\", missing_values_table(processor.test))\n",
    "print(\"Missing values in store dataset:\\n\", missing_values_table(processor.store))"
   ]
  },
  {
   "cell_type": "markdown",
   "metadata": {},
   "source": [
    "Step 6: Visualize Outliers Using Box Plots"
   ]
  },
  {
   "cell_type": "code",
   "execution_count": 8,
   "metadata": {},
   "outputs": [
    {
     "data": {
      "image/png": "[encoded data removed]",
      "text/plain": [
       "<Figure size 1000x600 with 1 Axes>"
      ]
     },
     "metadata": {},
     "output_type": "display_data"
    }
   ],
   "source": [
    "# Step 6: Visualize Outliers Using Box Plots\n",
    "plt.figure(figsize=(10, 6))\n",
    "sns.boxplot(x=processor.train['Sales'])\n",
    "plt.title('Box plot of Sales')\n",
    "plt.show()"
   ]
  },
  {
   "cell_type": "code",
   "execution_count": 9,
   "metadata": {},
   "outputs": [
    {
     "name": "stdout",
     "output_type": "stream",
     "text": [
      "Number of outliers to be removed: 26694\n"
     ]
    }
   ],
   "source": [
    "# Count Outliers\n",
    "try:\n",
    "    num_outliers = processor.count_outliers()\n",
    "    print(f\"Number of outliers to be removed: {num_outliers}\")\n",
    "except Exception as e:\n",
    "    print(f\"Error counting outliers: {e}\")\n"
   ]
  },
  {
   "cell_type": "code",
   "execution_count": 11,
   "metadata": {},
   "outputs": [],
   "source": [
    "# so, it is better to keep as it is the original data  without  handling of outliers"
   ]
  },
  {
   "cell_type": "markdown",
   "metadata": {},
   "source": [
    "Step 7: Merge Data"
   ]
  },
  {
   "cell_type": "code",
   "execution_count": 12,
   "metadata": {},
   "outputs": [
    {
     "name": "stderr",
     "output_type": "stream",
     "text": [
      "2025-01-03 14:32:38,338 - INFO - Merging train and store datasets...\n"
     ]
    }
   ],
   "source": [
    "try:\n",
    "    processor.merge_data()\n",
    "except Exception as e:\n",
    "    print(f\"Error merging data: {e}\")"
   ]
  },
  {
   "cell_type": "markdown",
   "metadata": {},
   "source": [
    "Step 8: Clean Data"
   ]
  },
  {
   "cell_type": "code",
   "execution_count": 13,
   "metadata": {},
   "outputs": [
    {
     "name": "stderr",
     "output_type": "stream",
     "text": [
      "2025-01-03 14:32:43,725 - INFO - Handling white spaces...\n",
      "2025-01-03 14:32:43,728 - INFO - Eliminating duplicates...\n",
      "2025-01-03 14:32:45,427 - INFO - Checking data types...\n",
      "2025-01-03 14:32:45,429 - INFO - Store                          int64\n",
      "DayOfWeek                      int64\n",
      "Date                          object\n",
      "Sales                          int64\n",
      "Customers                      int64\n",
      "Open                           int64\n",
      "Promo                          int64\n",
      "StateHoliday                  object\n",
      "SchoolHoliday                  int64\n",
      "StoreType                     object\n",
      "Assortment                    object\n",
      "CompetitionDistance          float64\n",
      "CompetitionOpenSinceMonth    float64\n",
      "CompetitionOpenSinceYear     float64\n",
      "Promo2                         int64\n",
      "Promo2SinceWeek              float64\n",
      "Promo2SinceYear              float64\n",
      "PromoInterval                 object\n",
      "dtype: object\n",
      "2025-01-03 14:32:45,432 - INFO - Id                             int64\n",
      "Store                          int64\n",
      "DayOfWeek                      int64\n",
      "Date                          object\n",
      "Open                         float64\n",
      "Promo                          int64\n",
      "StateHoliday                  object\n",
      "SchoolHoliday                  int64\n",
      "StoreType                     object\n",
      "Assortment                    object\n",
      "CompetitionDistance          float64\n",
      "CompetitionOpenSinceMonth    float64\n",
      "CompetitionOpenSinceYear     float64\n",
      "Promo2                         int64\n",
      "Promo2SinceWeek              float64\n",
      "Promo2SinceYear              float64\n",
      "PromoInterval                 object\n",
      "dtype: object\n",
      "2025-01-03 14:32:45,434 - INFO - Store                          int64\n",
      "StoreType                     object\n",
      "Assortment                    object\n",
      "CompetitionDistance          float64\n",
      "CompetitionOpenSinceMonth    float64\n",
      "CompetitionOpenSinceYear     float64\n",
      "Promo2                         int64\n",
      "Promo2SinceWeek              float64\n",
      "Promo2SinceYear              float64\n",
      "PromoInterval                 object\n",
      "dtype: object\n",
      "2025-01-03 14:32:45,436 - INFO - Handling missing values...\n",
      "2025-01-03 14:32:45,440 - INFO - Handling outliers...\n",
      "2025-01-03 14:32:45,503 - INFO - Number of outliers to be removed: 26694\n",
      "2025-01-03 14:32:45,504 - INFO - Converting categorical variables to numeric...\n",
      "2025-01-03 14:32:45,592 - INFO - Converting date columns to datetime...\n",
      "2025-01-03 14:32:45,771 - INFO - Extracting additional features from date...\n"
     ]
    }
   ],
   "source": [
    "try:\n",
    "    processor.clean_data()\n",
    "except Exception as e:\n",
    "    print(f\"Error cleaning data: {e}\")"
   ]
  },
  {
   "cell_type": "markdown",
   "metadata": {},
   "source": [
    "Step 9: Save Cleaned Data"
   ]
  },
  {
   "cell_type": "code",
   "execution_count": 14,
   "metadata": {},
   "outputs": [
    {
     "name": "stderr",
     "output_type": "stream",
     "text": [
      "2025-01-03 14:34:41,343 - INFO - Saving cleaned data...\n"
     ]
    }
   ],
   "source": [
    "try:\n",
    "    processor.save_cleaned_data(train_output_path, test_output_path)\n",
    "except Exception as e:\n",
    "    print(f\"Error saving cleaned data: {e}\")"
   ]
  }
 ],
 "metadata": {
  "kernelspec": {
   "display_name": ".venv",
   "language": "python",
   "name": "python3"
  },
  "language_info": {
   "codemirror_mode": {
    "name": "ipython",
    "version": 3
   },
   "file_extension": ".py",
   "mimetype": "text/x-python",
   "name": "python",
   "nbconvert_exporter": "python",
   "pygments_lexer": "ipython3",
   "version": "3.12.7"
  }
 },
 "nbformat": 4,
 "nbformat_minor": 2
}
